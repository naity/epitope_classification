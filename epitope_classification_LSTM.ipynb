{
 "cells": [
  {
   "cell_type": "code",
   "execution_count": 1,
   "metadata": {},
   "outputs": [
    {
     "data": {
      "text/plain": [
       "'0.4.1'"
      ]
     },
     "execution_count": 1,
     "metadata": {},
     "output_type": "execute_result"
    }
   ],
   "source": [
    "import torch\n",
    "\n",
    "torch.__version__"
   ]
  },
  {
   "cell_type": "code",
   "execution_count": 2,
   "metadata": {},
   "outputs": [],
   "source": [
    "%matplotlib inline"
   ]
  },
  {
   "cell_type": "code",
   "execution_count": 3,
   "metadata": {},
   "outputs": [
    {
     "name": "stdout",
     "output_type": "stream",
     "text": [
      "['data/labels/negative.txt', 'data/labels/positive.txt']\n"
     ]
    }
   ],
   "source": [
    "from __future__ import unicode_literals, print_function, division\n",
    "from io import open\n",
    "import glob\n",
    "import os\n",
    "import pandas as pd\n",
    "import numpy as np\n",
    "\n",
    "def findFiles(path): return glob.glob(path)\n",
    "\n",
    "print(findFiles('data/labels/*.txt'))\n",
    "\n",
    "all_letters = \"arndbceqzghilkmfpstwyv\"\n",
    "n_letters = len(all_letters)\n",
    "\n",
    "\n",
    "# Build the category_lines dictionary, a list of names per language\n",
    "category_lines = {}\n",
    "all_categories = []\n",
    "\n",
    "# Read a file and split into lines\n",
    "def readLines(filename):\n",
    "    lines = open(filename).read().strip().split('\\n')\n",
    "    return lines\n",
    "\n",
    "for filename in findFiles('data/labels/*.txt'):\n",
    "    category = os.path.splitext(os.path.basename(filename))[0]\n",
    "    all_categories.append(category)\n",
    "    lines = readLines(filename)\n",
    "    category_lines[category] = lines\n",
    "\n",
    "n_categories = len(all_categories)"
   ]
  },
  {
   "cell_type": "code",
   "execution_count": 4,
   "metadata": {},
   "outputs": [
    {
     "data": {
      "text/plain": [
       "['negative', 'positive']"
      ]
     },
     "execution_count": 4,
     "metadata": {},
     "output_type": "execute_result"
    }
   ],
   "source": [
    "# make sure negative index is 0\n",
    "all_categories.sort()\n",
    "all_categories"
   ]
  },
  {
   "cell_type": "code",
   "execution_count": 5,
   "metadata": {},
   "outputs": [
    {
     "data": {
      "text/plain": [
       "22"
      ]
     },
     "execution_count": 5,
     "metadata": {},
     "output_type": "execute_result"
    }
   ],
   "source": [
    "n_letters"
   ]
  },
  {
   "cell_type": "code",
   "execution_count": 6,
   "metadata": {},
   "outputs": [
    {
     "name": "stdout",
     "output_type": "stream",
     "text": [
      "['AAIANYHYDADENSK', 'AGTWSALNSIQQFIS', 'AKGMMHMIKKGANGS', 'ALREKVLGLPAIKAW', 'ATDYENYAIVEGCPA']\n"
     ]
    }
   ],
   "source": [
    "print(category_lines['positive'][:5])"
   ]
  },
  {
   "cell_type": "code",
   "execution_count": 7,
   "metadata": {},
   "outputs": [
    {
     "name": "stdout",
     "output_type": "stream",
     "text": [
      "tensor([[ 0],\n",
      "        [ 0],\n",
      "        [11],\n",
      "        [ 0],\n",
      "        [ 2],\n",
      "        [20],\n",
      "        [10],\n",
      "        [20],\n",
      "        [ 3],\n",
      "        [ 0],\n",
      "        [ 3],\n",
      "        [ 6],\n",
      "        [ 2],\n",
      "        [17],\n",
      "        [13]])\n",
      "torch.Size([15, 1])\n"
     ]
    }
   ],
   "source": [
    "device = torch.device('cuda' if torch.cuda.is_available() else 'cpu')\n",
    "\n",
    "def letterToIndex(letter):\n",
    "    return all_letters.find(letter)\n",
    "\n",
    "def lineToTensor(line):\n",
    "    line = line.lower()\n",
    "    tensor = torch.tensor([letterToIndex(letter) for letter in line], dtype=torch.long).to(device) \n",
    "    tensor = tensor.view(-1, 1)\n",
    "    return tensor\n",
    "\n",
    "print(lineToTensor('AAIANYHYDADENSK'))\n",
    "print(lineToTensor('AAIANYHYDADENSK').size())"
   ]
  },
  {
   "cell_type": "code",
   "execution_count": 8,
   "metadata": {},
   "outputs": [],
   "source": [
    "import torch.nn as nn\n",
    "import torch.nn.functional as F\n",
    "\n",
    "class MyLSTM(nn.Module):\n",
    "    def __init__(self, input_size, hidden_size, output_size):\n",
    "        super(MyLSTM, self).__init__()\n",
    "\n",
    "        self.hidden_size = hidden_size\n",
    "        self.input_size = input_size\n",
    "        \n",
    "        self.e = nn.Embedding(input_size, input_size//2)\n",
    "        self.lstm = nn.LSTM(input_size//2, hidden_size)\n",
    "        self.i2o = nn.Linear(hidden_size, output_size)\n",
    "        self.softmax = nn.LogSoftmax(dim=1)\n",
    "\n",
    "    def forward(self, input, hidden):\n",
    "        embedding = self.e(input)\n",
    "        embedding = embedding.view(1, 1, -1)\n",
    "        lstm_out, hidden = self.lstm(\n",
    "            embedding, hidden)\n",
    "        output = self.softmax(self.i2o(lstm_out.view(1, -1)))\n",
    "        return output, hidden\n",
    "\n",
    "    def initHidden(self):\n",
    "        return (torch.rand(1, 1, self.hidden_size).to(device) ,\n",
    "                torch.rand(1, 1, self.hidden_size).to(device))\n",
    "\n",
    "n_hidden = 128\n",
    "model = MyLSTM(n_letters, n_hidden, n_categories).to(device)"
   ]
  },
  {
   "cell_type": "markdown",
   "metadata": {},
   "source": [
    "To run a step of this network we need to pass an input (in our case, the\n",
    "Tensor for the current letter) and a previous hidden state (which we\n",
    "initialize as zeros at first). We'll get back the output (probability of\n",
    "each language) and a next hidden state (which we keep for the next\n",
    "step).\n",
    "\n",
    "\n"
   ]
  },
  {
   "cell_type": "code",
   "execution_count": 9,
   "metadata": {},
   "outputs": [
    {
     "name": "stdout",
     "output_type": "stream",
     "text": [
      "tensor([0])\n",
      "tensor([[-0.6056, -0.7891]], grad_fn=<LogSoftmaxBackward>)\n",
      "torch.Size([1, 2])\n"
     ]
    }
   ],
   "source": [
    "input = lineToTensor('AAIANYHYDADENSK')\n",
    "hidden = model.initHidden()\n",
    "\n",
    "output, next_hidden = model(input[0], hidden)\n",
    "print(input[0])\n",
    "print(output)\n",
    "print(output.shape)"
   ]
  },
  {
   "cell_type": "markdown",
   "metadata": {},
   "source": [
    "Training\n",
    "========\n",
    "Preparing for Training\n",
    "----------------------\n",
    "\n",
    "Before going into training we should make a few helper functions. The\n",
    "first is to interpret the output of the network, which we know to be a\n",
    "likelihood of each category. We can use ``Tensor.topk`` to get the index\n",
    "of the greatest value:\n",
    "\n",
    "\n"
   ]
  },
  {
   "cell_type": "code",
   "execution_count": 10,
   "metadata": {},
   "outputs": [
    {
     "name": "stdout",
     "output_type": "stream",
     "text": [
      "('negative', 0)\n"
     ]
    }
   ],
   "source": [
    "def categoryFromOutput(output):\n",
    "    top_n, top_i = output.topk(1)\n",
    "    category_i = top_i[0].item()\n",
    "    return all_categories[category_i], category_i\n",
    "\n",
    "print(categoryFromOutput(output))"
   ]
  },
  {
   "cell_type": "code",
   "execution_count": 11,
   "metadata": {},
   "outputs": [
    {
     "name": "stdout",
     "output_type": "stream",
     "text": [
      "category = positive / line = AGTWSALNSIQQFIS\n",
      "category = negative / line = TAPPILQGNAGLSVK\n",
      "category = negative / line = FSVGWLYWYFWVIVV\n",
      "category = negative / line = SKKKCDELAAKLSGL\n",
      "category = positive / line = GSDPKKLVLNIKYTR\n",
      "category = positive / line = EKISVAKIFAHEKYD\n",
      "category = negative / line = QQRVWKALLTIPYGE\n",
      "category = negative / line = SKLDAAYKLAYKTAE\n",
      "category = positive / line = TVFETALKKAITAMS\n",
      "category = negative / line = HPARLVEDINRVFLC\n"
     ]
    }
   ],
   "source": [
    "import random\n",
    "\n",
    "def randomChoice(l):\n",
    "    return l[random.randint(0, len(l) - 1)]\n",
    "\n",
    "def randomTrainingExample():\n",
    "    category = randomChoice(all_categories)\n",
    "    line = randomChoice(category_lines[category])\n",
    "    category_tensor = torch.tensor([all_categories.index(category)], dtype=torch.long).to(device)\n",
    "    line_tensor = lineToTensor(line)\n",
    "    return category, line, category_tensor, line_tensor\n",
    "\n",
    "for i in range(10):\n",
    "    category, line, category_tensor, line_tensor = randomTrainingExample()\n",
    "    print('category =', category, '/ line =', line)"
   ]
  },
  {
   "cell_type": "markdown",
   "metadata": {},
   "source": [
    "Training the Network\n",
    "--------------------\n",
    "\n",
    "Now all it takes to train this network is show it a bunch of examples,\n",
    "have it make guesses, and tell it if it's wrong.\n",
    "\n",
    "For the loss function ``nn.NLLLoss`` is appropriate, since the last\n",
    "layer of the RNN is ``nn.LogSoftmax``.\n",
    "\n",
    "\n"
   ]
  },
  {
   "cell_type": "code",
   "execution_count": 12,
   "metadata": {},
   "outputs": [],
   "source": [
    "criterion = nn.NLLLoss()\n",
    "optimizer = torch.optim.Adam(model.parameters(), lr=2e-4, weight_decay=1e-4)"
   ]
  },
  {
   "cell_type": "code",
   "execution_count": 13,
   "metadata": {},
   "outputs": [],
   "source": [
    "def train(category_tensor, line_tensor):\n",
    "    hidden = model.initHidden()\n",
    "\n",
    "    model.zero_grad()\n",
    "\n",
    "    for i in range(line_tensor.size()[0]):\n",
    "        output, hidden = model(line_tensor[i], hidden)\n",
    "\n",
    "    loss = criterion(output, category_tensor)\n",
    "    loss.backward()\n",
    "    optimizer.step()\n",
    "\n",
    "    return output, loss.item()"
   ]
  },
  {
   "cell_type": "code",
   "execution_count": 14,
   "metadata": {},
   "outputs": [
    {
     "name": "stdout",
     "output_type": "stream",
     "text": [
      "2000 6% (0m 46s) 0.6276 QFKPEEITGIMKDFD / negative ✓\n",
      "4000 13% (1m 35s) 0.6867 VGKTVWFVPSIKAGN / positive ✓\n",
      "6000 20% (2m 23s) 0.8990 EGKVVGLYGNGVVTK / negative ✗ (positive)\n",
      "8000 26% (3m 10s) 1.1800 SDIKERFAQLCEEHG / negative ✗ (positive)\n",
      "10000 33% (3m 57s) 0.3937 QIPSLASLANLHLPQ / negative ✓\n",
      "12000 40% (4m 45s) 0.9996 GNQNFLTVFDSTSCN / positive ✗ (negative)\n",
      "14000 46% (5m 32s) 1.1848 SGQHRLWVRNSGSEPA / negative ✗ (positive)\n",
      "16000 53% (6m 19s) 0.6860 GGFKKTDKHPPKDWG / positive ✓\n",
      "18000 60% (7m 7s) 1.2465 IHQIFNIVRDTRGLP / positive ✗ (negative)\n",
      "20000 66% (7m 56s) 0.9177 PANDKFTVFEAAFND / negative ✗ (positive)\n",
      "22000 73% (8m 42s) 1.2133 CEEHGILRENIIDLS / negative ✗ (positive)\n",
      "24000 80% (9m 29s) 1.2269 WSERAGEAMVLVYYES / negative ✗ (positive)\n",
      "26000 86% (10m 15s) 0.8518 AQDIWGTSAAAYFVG / positive ✗ (negative)\n",
      "28000 93% (11m 2s) 0.8408 CGGSLISSRTVLTAA / negative ✗ (positive)\n",
      "30000 100% (11m 47s) 0.6467 YFALEAYAFDIAAPG / positive ✓\n"
     ]
    }
   ],
   "source": [
    "import time\n",
    "import math\n",
    "\n",
    "n_iters = 30000\n",
    "print_every = 2000\n",
    "plot_every = 2000\n",
    "\n",
    "\n",
    "\n",
    "# Keep track of losses for plotting\n",
    "current_loss = 0\n",
    "all_losses = []\n",
    "\n",
    "def timeSince(since):\n",
    "    now = time.time()\n",
    "    s = now - since\n",
    "    m = math.floor(s / 60)\n",
    "    s -= m * 60\n",
    "    return '%dm %ds' % (m, s)\n",
    "\n",
    "start = time.time()\n",
    "\n",
    "for iter in range(1, n_iters + 1):\n",
    "    category, line, category_tensor, line_tensor = randomTrainingExample()\n",
    "    output, loss = train(category_tensor, line_tensor)\n",
    "    current_loss += loss\n",
    "\n",
    "    # Print iter number, loss, name and guess\n",
    "    if iter % print_every == 0:\n",
    "        guess, guess_i = categoryFromOutput(output)\n",
    "        correct = '✓' if guess == category else '✗ (%s)' % category\n",
    "        print('%d %d%% (%s) %.4f %s / %s %s' % (iter, iter / n_iters * 100, timeSince(start), loss, line, guess, correct))\n",
    "\n",
    "    # Add current loss avg to list of losses\n",
    "    if iter % plot_every == 0:\n",
    "        all_losses.append(current_loss / plot_every)\n",
    "        current_loss = 0"
   ]
  },
  {
   "cell_type": "markdown",
   "metadata": {},
   "source": [
    "Plotting the Results\n",
    "--------------------\n",
    "\n",
    "Plotting the historical loss from ``all_losses`` shows the network\n",
    "learning:\n",
    "\n",
    "\n"
   ]
  },
  {
   "cell_type": "code",
   "execution_count": 15,
   "metadata": {},
   "outputs": [
    {
     "data": {
      "text/plain": [
       "[<matplotlib.lines.Line2D at 0x7fd318499a58>]"
      ]
     },
     "execution_count": 15,
     "metadata": {},
     "output_type": "execute_result"
    },
    {
     "data": {
      "image/png": "[encoded data removed]",
      "text/plain": [
       "<Figure size 432x288 with 1 Axes>"
      ]
     },
     "metadata": {},
     "output_type": "display_data"
    }
   ],
   "source": [
    "import matplotlib.pyplot as plt\n",
    "import matplotlib.ticker as ticker\n",
    "\n",
    "plt.figure()\n",
    "plt.plot(all_losses)"
   ]
  },
  {
   "cell_type": "code",
   "execution_count": 16,
   "metadata": {},
   "outputs": [
    {
     "data": {
      "text/plain": [
       "[0.5988904912173748,\n",
       " 0.5975370786488056,\n",
       " 0.5876611967533827,\n",
       " 0.5890739852190018,\n",
       " 0.5948267067670823]"
      ]
     },
     "execution_count": 16,
     "metadata": {},
     "output_type": "execute_result"
    }
   ],
   "source": [
    "all_losses[-5:]"
   ]
  },
  {
   "cell_type": "markdown",
   "metadata": {},
   "source": [
    "Evaluating the Results\n",
    "======================\n",
    "\n",
    "To see how well the network performs on different categories, we will\n",
    "create a confusion matrix, indicating for every actual language (rows)\n",
    "which language the network guesses (columns). To calculate the confusion\n",
    "matrix a bunch of samples are run through the network with\n",
    "``evaluate()``, which is the same as ``train()`` minus the backprop.\n",
    "\n",
    "\n"
   ]
  },
  {
   "cell_type": "code",
   "execution_count": 17,
   "metadata": {},
   "outputs": [
    {
     "data": {
      "image/png": "[encoded data removed]",
      "text/plain": [
       "<Figure size 432x288 with 2 Axes>"
      ]
     },
     "metadata": {},
     "output_type": "display_data"
    }
   ],
   "source": [
    "# Keep track of correct guesses in a confusion matrix\n",
    "confusion = torch.zeros(n_categories, n_categories)\n",
    "n_confusion = 1000\n",
    "\n",
    "# Just return an output given a line\n",
    "def evaluate(line_tensor):\n",
    "    hidden = model.initHidden()\n",
    "\n",
    "    for i in range(line_tensor.size()[0]):\n",
    "        output, hidden = model(line_tensor[i], hidden)\n",
    "\n",
    "    return output\n",
    "\n",
    "# Go through a bunch of examples and record which are correctly guessed\n",
    "for i in range(n_confusion):\n",
    "    category, line, category_tensor, line_tensor = randomTrainingExample()\n",
    "    with torch.no_grad():\n",
    "        output = evaluate(line_tensor)\n",
    "        guess, guess_i = categoryFromOutput(output)\n",
    "        category_i = all_categories.index(category)\n",
    "        confusion[category_i][guess_i] += 1\n",
    "\n",
    "# Normalize by dividing every row by its sum\n",
    "for i in range(n_categories):\n",
    "    confusion[i] = confusion[i] / confusion[i].sum()\n",
    "\n",
    "# Set up plot\n",
    "fig = plt.figure()\n",
    "ax = fig.add_subplot(111)\n",
    "cax = ax.matshow(confusion.numpy())\n",
    "fig.colorbar(cax)\n",
    "\n",
    "# Set up axes\n",
    "ax.set_xticklabels([''] + all_categories, rotation=90)\n",
    "ax.set_yticklabels([''] + all_categories)\n",
    "\n",
    "# Force label at every tick\n",
    "ax.xaxis.set_major_locator(ticker.MultipleLocator(1))\n",
    "ax.yaxis.set_major_locator(ticker.MultipleLocator(1))\n",
    "\n",
    "# sphinx_gallery_thumbnail_number = 2\n",
    "plt.show()"
   ]
  },
  {
   "cell_type": "code",
   "execution_count": 18,
   "metadata": {},
   "outputs": [],
   "source": [
    "#torch.save(model, \"models/lstm_15000.pth\")"
   ]
  },
  {
   "cell_type": "code",
   "execution_count": 19,
   "metadata": {},
   "outputs": [
    {
     "data": {
      "text/html": [
       "<div>\n",
       "<style scoped>\n",
       "    .dataframe tbody tr th:only-of-type {\n",
       "        vertical-align: middle;\n",
       "    }\n",
       "\n",
       "    .dataframe tbody tr th {\n",
       "        vertical-align: top;\n",
       "    }\n",
       "\n",
       "    .dataframe thead th {\n",
       "        text-align: right;\n",
       "    }\n",
       "</style>\n",
       "<table border=\"1\" class=\"dataframe\">\n",
       "  <thead>\n",
       "    <tr style=\"text-align: right;\">\n",
       "      <th></th>\n",
       "      <th>PubMed ID</th>\n",
       "      <th>Peptide</th>\n",
       "      <th>Immunogenicity</th>\n",
       "    </tr>\n",
       "  </thead>\n",
       "  <tbody>\n",
       "    <tr>\n",
       "      <th>0</th>\n",
       "      <td>1706620</td>\n",
       "      <td>QGHNMPNDPNRNVDENANAN</td>\n",
       "      <td>1</td>\n",
       "    </tr>\n",
       "    <tr>\n",
       "      <th>1</th>\n",
       "      <td>1706620</td>\n",
       "      <td>VTCGNGIQVRIKPGSANKPK</td>\n",
       "      <td>1</td>\n",
       "    </tr>\n",
       "    <tr>\n",
       "      <th>2</th>\n",
       "      <td>11241296</td>\n",
       "      <td>AAFVGAAATLVSLLTFMIAATYNFAVLKLMGR</td>\n",
       "      <td>1</td>\n",
       "    </tr>\n",
       "    <tr>\n",
       "      <th>3</th>\n",
       "      <td>11241296</td>\n",
       "      <td>ENPVVHFFKNIVTPRTP</td>\n",
       "      <td>1</td>\n",
       "    </tr>\n",
       "    <tr>\n",
       "      <th>4</th>\n",
       "      <td>11241296</td>\n",
       "      <td>GTASFFFLYGALLLAYGFYTTGAVRQIFGDYK</td>\n",
       "      <td>1</td>\n",
       "    </tr>\n",
       "  </tbody>\n",
       "</table>\n",
       "</div>"
      ],
      "text/plain": [
       "   PubMed ID                           Peptide  Immunogenicity\n",
       "0    1706620              QGHNMPNDPNRNVDENANAN               1\n",
       "1    1706620              VTCGNGIQVRIKPGSANKPK               1\n",
       "2   11241296  AAFVGAAATLVSLLTFMIAATYNFAVLKLMGR               1\n",
       "3   11241296                 ENPVVHFFKNIVTPRTP               1\n",
       "4   11241296  GTASFFFLYGALLLAYGFYTTGAVRQIFGDYK               1"
      ]
     },
     "execution_count": 19,
     "metadata": {},
     "output_type": "execute_result"
    }
   ],
   "source": [
    "import pandas as pd\n",
    "import numpy as np\n",
    "\n",
    "valid = pd.read_csv(\"data/valid.csv\")\n",
    "valid[\"Immunogenicity\"] = valid[\"Immunogenicity\"].map(lambda n: 0 if n == -1 else n)\n",
    "valid.head()"
   ]
  },
  {
   "cell_type": "code",
   "execution_count": 20,
   "metadata": {},
   "outputs": [
    {
     "data": {
      "text/plain": [
       "57"
      ]
     },
     "execution_count": 20,
     "metadata": {},
     "output_type": "execute_result"
    }
   ],
   "source": [
    "len(valid[\"PubMed ID\"].unique())"
   ]
  },
  {
   "cell_type": "code",
   "execution_count": 21,
   "metadata": {},
   "outputs": [],
   "source": [
    "# group by PubMedi ID\n",
    "grouped = valid.groupby(\"PubMed ID\")"
   ]
  },
  {
   "cell_type": "code",
   "execution_count": 22,
   "metadata": {},
   "outputs": [],
   "source": [
    "auc_scores = []"
   ]
  },
  {
   "cell_type": "code",
   "execution_count": 23,
   "metadata": {},
   "outputs": [],
   "source": [
    "def predict(peptide):\n",
    "    with torch.no_grad():\n",
    "        output = evaluate(lineToTensor(peptide))\n",
    "        log_prob = output[0][1].item()\n",
    "        prob = np.exp(log_prob)\n",
    "        \n",
    "        top_v, top_i = output.topk(1)\n",
    "        category_i = top_i[0].item()\n",
    "        return (prob, category_i)"
   ]
  },
  {
   "cell_type": "code",
   "execution_count": 24,
   "metadata": {},
   "outputs": [],
   "source": [
    "from sklearn.metrics import roc_auc_score\n",
    "from sklearn.metrics import f1_score\n",
    "\n",
    "for _, group in grouped:\n",
    "    valid_peptides = group[\"Peptide\"].tolist()\n",
    "    valid_targets = group[\"Immunogenicity\"].tolist()\n",
    "    \n",
    "    probs = []\n",
    "    predictions = []\n",
    "\n",
    "    for peptide in valid_peptides:\n",
    "        prob, pred = predict(peptide)\n",
    "        probs.append(prob)\n",
    "        predictions.append(pred)\n",
    "        \n",
    "    auc_score = roc_auc_score(valid_targets, probs)\n",
    "    auc_scores.append(auc_score)"
   ]
  },
  {
   "cell_type": "code",
   "execution_count": 25,
   "metadata": {},
   "outputs": [
    {
     "name": "stdout",
     "output_type": "stream",
     "text": [
      "57\n"
     ]
    }
   ],
   "source": [
    "print(len(auc_scores))"
   ]
  },
  {
   "cell_type": "code",
   "execution_count": 26,
   "metadata": {},
   "outputs": [
    {
     "data": {
      "text/plain": [
       "0.6245193356286296"
      ]
     },
     "execution_count": 26,
     "metadata": {},
     "output_type": "execute_result"
    }
   ],
   "source": [
    "auc_scores = np.asarray(auc_scores)\n",
    "auc_scores.mean()"
   ]
  },
  {
   "cell_type": "code",
   "execution_count": 27,
   "metadata": {},
   "outputs": [
    {
     "data": {
      "text/plain": [
       "array([0.79166667, 0.25      , 0.63333333, 0.57142857, 0.67142857,\n",
       "       0.85714286, 0.61111111, 0.55555556, 0.74285714, 0.60034014,\n",
       "       0.55882353, 0.6       , 0.60714286, 0.61111111, 0.9       ,\n",
       "       0.755     , 0.52777778, 0.95238095, 0.57432432, 0.6489899 ,\n",
       "       1.        , 0.66666667, 0.48571429, 0.60555556, 0.38461538,\n",
       "       0.53125   , 0.63859649, 0.71428571, 0.55494505, 1.        ,\n",
       "       0.68852459, 0.10416667, 0.8       , 0.65833333, 0.5269131 ,\n",
       "       0.56902357, 0.61458333, 0.53325123, 0.82638889, 0.49579832,\n",
       "       0.53546454, 0.66458333, 0.49444444, 0.46212121, 0.57407407,\n",
       "       0.49942396, 0.93333333, 0.88333333, 0.25      , 0.68181818,\n",
       "       0.54358974, 0.60702341, 0.72222222, 0.78064516, 0.5       ,\n",
       "       0.42745098, 0.61904762])"
      ]
     },
     "execution_count": 27,
     "metadata": {},
     "output_type": "execute_result"
    }
   ],
   "source": [
    "auc_scores"
   ]
  },
  {
   "cell_type": "code",
   "execution_count": null,
   "metadata": {},
   "outputs": [],
   "source": []
  }
 ],
 "metadata": {
  "kernelspec": {
   "display_name": "Python 3",
   "language": "python",
   "name": "python3"
  },
  "language_info": {
   "codemirror_mode": {
    "name": "ipython",
    "version": 3
   },
   "file_extension": ".py",
   "mimetype": "text/x-python",
   "name": "python",
   "nbconvert_exporter": "python",
   "pygments_lexer": "ipython3",
   "version": "3.6.6"
  }
 },
 "nbformat": 4,
 "nbformat_minor": 1
}
